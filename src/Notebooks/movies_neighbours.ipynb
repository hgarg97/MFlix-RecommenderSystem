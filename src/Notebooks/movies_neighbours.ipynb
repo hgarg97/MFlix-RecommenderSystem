{
  "cells": [
    {
      "cell_type": "code",
      "execution_count": 1,
      "id": "0485feec",
      "metadata": {
        "id": "0485feec"
      },
      "outputs": [],
      "source": [
        "import pandas as pd\n",
        "import numpy as np\n",
        "import string\n",
        "import pickle\n",
        "import io\n",
        "import torch\n",
        "import json\n",
        "from sklearn.metrics.pairwise import cosine_similarity"
      ]
    },
    {
      "cell_type": "code",
      "source": [
        "metadata = pd.read_csv(\"Movies_dataset.csv\")\n",
        "\n",
        "with open('encodings_description.pickle','rb') as file:\n",
        "    encoded_data = pickle.load(file)"
      ],
      "metadata": {
        "id": "bsS3_swc2ffk"
      },
      "id": "bsS3_swc2ffk",
      "execution_count": 2,
      "outputs": []
    },
    {
      "cell_type": "code",
      "source": [
        "metadata.head()"
      ],
      "metadata": {
        "colab": {
          "base_uri": "https://localhost:8080/",
          "height": 712
        },
        "id": "VR5YKQxy3ZUQ",
        "outputId": "fb83204e-9267-4a0f-8a17-25b0bf43d1ce"
      },
      "id": "VR5YKQxy3ZUQ",
      "execution_count": 3,
      "outputs": [
        {
          "output_type": "execute_result",
          "data": {
            "text/plain": [
              "   Unnamed: 0  movieId  imdbId   tmdbId                        title  \\\n",
              "0           0        1  114709    862.0                    Toy Story   \n",
              "1           1        2  113497   8844.0                      Jumanji   \n",
              "2           2        3  113228  15602.0             Grumpier Old Men   \n",
              "3           3        4  114885  31357.0            Waiting to Exhale   \n",
              "4           4        5  113041  11862.0  Father of the Bride Part II   \n",
              "\n",
              "                                            overview      budget  \\\n",
              "0  Led by Woody, Andy's toys live happily in his ...  30000000.0   \n",
              "1  When siblings Judy and Peter discover an encha...  65000000.0   \n",
              "2  A family wedding reignites the ancient feud be...         0.0   \n",
              "3  Cheated on, mistreated and stepped on, the wom...  16000000.0   \n",
              "4  Just when George Banks has recovered from his ...         0.0   \n",
              "\n",
              "                                              genres  \\\n",
              "0  [{'id': 16, 'name': 'Animation'}, {'id': 35, '...   \n",
              "1  [{'id': 12, 'name': 'Adventure'}, {'id': 14, '...   \n",
              "2  [{'id': 10749, 'name': 'Romance'}, {'id': 35, ...   \n",
              "3  [{'id': 35, 'name': 'Comedy'}, {'id': 18, 'nam...   \n",
              "4                     [{'id': 35, 'name': 'Comedy'}]   \n",
              "\n",
              "                                production_companies  \\\n",
              "0     [{'name': 'Pixar Animation Studios', 'id': 3}]   \n",
              "1  [{'name': 'TriStar Pictures', 'id': 559}, {'na...   \n",
              "2  [{'name': 'Warner Bros.', 'id': 6194}, {'name'...   \n",
              "3  [{'name': 'Twentieth Century Fox Film Corporat...   \n",
              "4  [{'name': 'Sandollar Productions', 'id': 5842}...   \n",
              "\n",
              "                                production_countries release_date  runtime  \\\n",
              "0  [{'iso_3166_1': 'US', 'name': 'United States o...   1995-10-30     81.0   \n",
              "1  [{'iso_3166_1': 'US', 'name': 'United States o...   1995-12-15    104.0   \n",
              "2  [{'iso_3166_1': 'US', 'name': 'United States o...   1995-12-22    101.0   \n",
              "3  [{'iso_3166_1': 'US', 'name': 'United States o...   1995-12-22    127.0   \n",
              "4  [{'iso_3166_1': 'US', 'name': 'United States o...   1995-02-10    106.0   \n",
              "\n",
              "                                    spoken_languages  \\\n",
              "0           [{'iso_639_1': 'en', 'name': 'English'}]   \n",
              "1  [{'iso_639_1': 'en', 'name': 'English'}, {'iso...   \n",
              "2           [{'iso_639_1': 'en', 'name': 'English'}]   \n",
              "3           [{'iso_639_1': 'en', 'name': 'English'}]   \n",
              "4           [{'iso_639_1': 'en', 'name': 'English'}]   \n",
              "\n",
              "                                            keywords  \\\n",
              "0  [{'id': 931, 'name': 'jealousy'}, {'id': 4290,...   \n",
              "1  [{'id': 10090, 'name': 'board game'}, {'id': 1...   \n",
              "2  [{'id': 1495, 'name': 'fishing'}, {'id': 12392...   \n",
              "3  [{'id': 818, 'name': 'based on novel'}, {'id':...   \n",
              "4  [{'id': 1009, 'name': 'baby'}, {'id': 1599, 'n...   \n",
              "\n",
              "                                                cast  \\\n",
              "0  [{'cast_id': 14, 'character': 'Woody (voice)',...   \n",
              "1  [{'cast_id': 1, 'character': 'Alan Parrish', '...   \n",
              "2  [{'cast_id': 2, 'character': 'Max Goldman', 'c...   \n",
              "3  [{'cast_id': 1, 'character': \"Savannah 'Vannah...   \n",
              "4  [{'cast_id': 1, 'character': 'George Banks', '...   \n",
              "\n",
              "                                                crew  \\\n",
              "0  [{'credit_id': '52fe4284c3a36847f8024f49', 'de...   \n",
              "1  [{'credit_id': '52fe44bfc3a36847f80a7cd1', 'de...   \n",
              "2  [{'credit_id': '52fe466a9251416c75077a89', 'de...   \n",
              "3  [{'credit_id': '52fe44779251416c91011acb', 'de...   \n",
              "4  [{'credit_id': '52fe44959251416c75039ed7', 'de...   \n",
              "\n",
              "                                    final_poster_url  \n",
              "0                                                 NF  \n",
              "1  https://image.tmdb.org/t/p/w500/vzmL6fP7aPKNKP...  \n",
              "2                                                 NF  \n",
              "3                                                 NF  \n",
              "4                                                 NF  "
            ],
            "text/html": [
              "\n",
              "  <div id=\"df-1fa48543-c325-4581-9cf8-5afe3c3305ae\" class=\"colab-df-container\">\n",
              "    <div>\n",
              "<style scoped>\n",
              "    .dataframe tbody tr th:only-of-type {\n",
              "        vertical-align: middle;\n",
              "    }\n",
              "\n",
              "    .dataframe tbody tr th {\n",
              "        vertical-align: top;\n",
              "    }\n",
              "\n",
              "    .dataframe thead th {\n",
              "        text-align: right;\n",
              "    }\n",
              "</style>\n",
              "<table border=\"1\" class=\"dataframe\">\n",
              "  <thead>\n",
              "    <tr style=\"text-align: right;\">\n",
              "      <th></th>\n",
              "      <th>Unnamed: 0</th>\n",
              "      <th>movieId</th>\n",
              "      <th>imdbId</th>\n",
              "      <th>tmdbId</th>\n",
              "      <th>title</th>\n",
              "      <th>overview</th>\n",
              "      <th>budget</th>\n",
              "      <th>genres</th>\n",
              "      <th>production_companies</th>\n",
              "      <th>production_countries</th>\n",
              "      <th>release_date</th>\n",
              "      <th>runtime</th>\n",
              "      <th>spoken_languages</th>\n",
              "      <th>keywords</th>\n",
              "      <th>cast</th>\n",
              "      <th>crew</th>\n",
              "      <th>final_poster_url</th>\n",
              "    </tr>\n",
              "  </thead>\n",
              "  <tbody>\n",
              "    <tr>\n",
              "      <th>0</th>\n",
              "      <td>0</td>\n",
              "      <td>1</td>\n",
              "      <td>114709</td>\n",
              "      <td>862.0</td>\n",
              "      <td>Toy Story</td>\n",
              "      <td>Led by Woody, Andy's toys live happily in his ...</td>\n",
              "      <td>30000000.0</td>\n",
              "      <td>[{'id': 16, 'name': 'Animation'}, {'id': 35, '...</td>\n",
              "      <td>[{'name': 'Pixar Animation Studios', 'id': 3}]</td>\n",
              "      <td>[{'iso_3166_1': 'US', 'name': 'United States o...</td>\n",
              "      <td>1995-10-30</td>\n",
              "      <td>81.0</td>\n",
              "      <td>[{'iso_639_1': 'en', 'name': 'English'}]</td>\n",
              "      <td>[{'id': 931, 'name': 'jealousy'}, {'id': 4290,...</td>\n",
              "      <td>[{'cast_id': 14, 'character': 'Woody (voice)',...</td>\n",
              "      <td>[{'credit_id': '52fe4284c3a36847f8024f49', 'de...</td>\n",
              "      <td>NF</td>\n",
              "    </tr>\n",
              "    <tr>\n",
              "      <th>1</th>\n",
              "      <td>1</td>\n",
              "      <td>2</td>\n",
              "      <td>113497</td>\n",
              "      <td>8844.0</td>\n",
              "      <td>Jumanji</td>\n",
              "      <td>When siblings Judy and Peter discover an encha...</td>\n",
              "      <td>65000000.0</td>\n",
              "      <td>[{'id': 12, 'name': 'Adventure'}, {'id': 14, '...</td>\n",
              "      <td>[{'name': 'TriStar Pictures', 'id': 559}, {'na...</td>\n",
              "      <td>[{'iso_3166_1': 'US', 'name': 'United States o...</td>\n",
              "      <td>1995-12-15</td>\n",
              "      <td>104.0</td>\n",
              "      <td>[{'iso_639_1': 'en', 'name': 'English'}, {'iso...</td>\n",
              "      <td>[{'id': 10090, 'name': 'board game'}, {'id': 1...</td>\n",
              "      <td>[{'cast_id': 1, 'character': 'Alan Parrish', '...</td>\n",
              "      <td>[{'credit_id': '52fe44bfc3a36847f80a7cd1', 'de...</td>\n",
              "      <td>https://image.tmdb.org/t/p/w500/vzmL6fP7aPKNKP...</td>\n",
              "    </tr>\n",
              "    <tr>\n",
              "      <th>2</th>\n",
              "      <td>2</td>\n",
              "      <td>3</td>\n",
              "      <td>113228</td>\n",
              "      <td>15602.0</td>\n",
              "      <td>Grumpier Old Men</td>\n",
              "      <td>A family wedding reignites the ancient feud be...</td>\n",
              "      <td>0.0</td>\n",
              "      <td>[{'id': 10749, 'name': 'Romance'}, {'id': 35, ...</td>\n",
              "      <td>[{'name': 'Warner Bros.', 'id': 6194}, {'name'...</td>\n",
              "      <td>[{'iso_3166_1': 'US', 'name': 'United States o...</td>\n",
              "      <td>1995-12-22</td>\n",
              "      <td>101.0</td>\n",
              "      <td>[{'iso_639_1': 'en', 'name': 'English'}]</td>\n",
              "      <td>[{'id': 1495, 'name': 'fishing'}, {'id': 12392...</td>\n",
              "      <td>[{'cast_id': 2, 'character': 'Max Goldman', 'c...</td>\n",
              "      <td>[{'credit_id': '52fe466a9251416c75077a89', 'de...</td>\n",
              "      <td>NF</td>\n",
              "    </tr>\n",
              "    <tr>\n",
              "      <th>3</th>\n",
              "      <td>3</td>\n",
              "      <td>4</td>\n",
              "      <td>114885</td>\n",
              "      <td>31357.0</td>\n",
              "      <td>Waiting to Exhale</td>\n",
              "      <td>Cheated on, mistreated and stepped on, the wom...</td>\n",
              "      <td>16000000.0</td>\n",
              "      <td>[{'id': 35, 'name': 'Comedy'}, {'id': 18, 'nam...</td>\n",
              "      <td>[{'name': 'Twentieth Century Fox Film Corporat...</td>\n",
              "      <td>[{'iso_3166_1': 'US', 'name': 'United States o...</td>\n",
              "      <td>1995-12-22</td>\n",
              "      <td>127.0</td>\n",
              "      <td>[{'iso_639_1': 'en', 'name': 'English'}]</td>\n",
              "      <td>[{'id': 818, 'name': 'based on novel'}, {'id':...</td>\n",
              "      <td>[{'cast_id': 1, 'character': \"Savannah 'Vannah...</td>\n",
              "      <td>[{'credit_id': '52fe44779251416c91011acb', 'de...</td>\n",
              "      <td>NF</td>\n",
              "    </tr>\n",
              "    <tr>\n",
              "      <th>4</th>\n",
              "      <td>4</td>\n",
              "      <td>5</td>\n",
              "      <td>113041</td>\n",
              "      <td>11862.0</td>\n",
              "      <td>Father of the Bride Part II</td>\n",
              "      <td>Just when George Banks has recovered from his ...</td>\n",
              "      <td>0.0</td>\n",
              "      <td>[{'id': 35, 'name': 'Comedy'}]</td>\n",
              "      <td>[{'name': 'Sandollar Productions', 'id': 5842}...</td>\n",
              "      <td>[{'iso_3166_1': 'US', 'name': 'United States o...</td>\n",
              "      <td>1995-02-10</td>\n",
              "      <td>106.0</td>\n",
              "      <td>[{'iso_639_1': 'en', 'name': 'English'}]</td>\n",
              "      <td>[{'id': 1009, 'name': 'baby'}, {'id': 1599, 'n...</td>\n",
              "      <td>[{'cast_id': 1, 'character': 'George Banks', '...</td>\n",
              "      <td>[{'credit_id': '52fe44959251416c75039ed7', 'de...</td>\n",
              "      <td>NF</td>\n",
              "    </tr>\n",
              "  </tbody>\n",
              "</table>\n",
              "</div>\n",
              "    <div class=\"colab-df-buttons\">\n",
              "\n",
              "  <div class=\"colab-df-container\">\n",
              "    <button class=\"colab-df-convert\" onclick=\"convertToInteractive('df-1fa48543-c325-4581-9cf8-5afe3c3305ae')\"\n",
              "            title=\"Convert this dataframe to an interactive table.\"\n",
              "            style=\"display:none;\">\n",
              "\n",
              "  <svg xmlns=\"http://www.w3.org/2000/svg\" height=\"24px\" viewBox=\"0 -960 960 960\">\n",
              "    <path d=\"M120-120v-720h720v720H120Zm60-500h600v-160H180v160Zm220 220h160v-160H400v160Zm0 220h160v-160H400v160ZM180-400h160v-160H180v160Zm440 0h160v-160H620v160ZM180-180h160v-160H180v160Zm440 0h160v-160H620v160Z\"/>\n",
              "  </svg>\n",
              "    </button>\n",
              "\n",
              "  <style>\n",
              "    .colab-df-container {\n",
              "      display:flex;\n",
              "      gap: 12px;\n",
              "    }\n",
              "\n",
              "    .colab-df-convert {\n",
              "      background-color: #E8F0FE;\n",
              "      border: none;\n",
              "      border-radius: 50%;\n",
              "      cursor: pointer;\n",
              "      display: none;\n",
              "      fill: #1967D2;\n",
              "      height: 32px;\n",
              "      padding: 0 0 0 0;\n",
              "      width: 32px;\n",
              "    }\n",
              "\n",
              "    .colab-df-convert:hover {\n",
              "      background-color: #E2EBFA;\n",
              "      box-shadow: 0px 1px 2px rgba(60, 64, 67, 0.3), 0px 1px 3px 1px rgba(60, 64, 67, 0.15);\n",
              "      fill: #174EA6;\n",
              "    }\n",
              "\n",
              "    .colab-df-buttons div {\n",
              "      margin-bottom: 4px;\n",
              "    }\n",
              "\n",
              "    [theme=dark] .colab-df-convert {\n",
              "      background-color: #3B4455;\n",
              "      fill: #D2E3FC;\n",
              "    }\n",
              "\n",
              "    [theme=dark] .colab-df-convert:hover {\n",
              "      background-color: #434B5C;\n",
              "      box-shadow: 0px 1px 3px 1px rgba(0, 0, 0, 0.15);\n",
              "      filter: drop-shadow(0px 1px 2px rgba(0, 0, 0, 0.3));\n",
              "      fill: #FFFFFF;\n",
              "    }\n",
              "  </style>\n",
              "\n",
              "    <script>\n",
              "      const buttonEl =\n",
              "        document.querySelector('#df-1fa48543-c325-4581-9cf8-5afe3c3305ae button.colab-df-convert');\n",
              "      buttonEl.style.display =\n",
              "        google.colab.kernel.accessAllowed ? 'block' : 'none';\n",
              "\n",
              "      async function convertToInteractive(key) {\n",
              "        const element = document.querySelector('#df-1fa48543-c325-4581-9cf8-5afe3c3305ae');\n",
              "        const dataTable =\n",
              "          await google.colab.kernel.invokeFunction('convertToInteractive',\n",
              "                                                    [key], {});\n",
              "        if (!dataTable) return;\n",
              "\n",
              "        const docLinkHtml = 'Like what you see? Visit the ' +\n",
              "          '<a target=\"_blank\" href=https://colab.research.google.com/notebooks/data_table.ipynb>data table notebook</a>'\n",
              "          + ' to learn more about interactive tables.';\n",
              "        element.innerHTML = '';\n",
              "        dataTable['output_type'] = 'display_data';\n",
              "        await google.colab.output.renderOutput(dataTable, element);\n",
              "        const docLink = document.createElement('div');\n",
              "        docLink.innerHTML = docLinkHtml;\n",
              "        element.appendChild(docLink);\n",
              "      }\n",
              "    </script>\n",
              "  </div>\n",
              "\n",
              "\n",
              "<div id=\"df-ef8b8cba-f1e0-41ae-b3db-8d892f1029ac\">\n",
              "  <button class=\"colab-df-quickchart\" onclick=\"quickchart('df-ef8b8cba-f1e0-41ae-b3db-8d892f1029ac')\"\n",
              "            title=\"Suggest charts\"\n",
              "            style=\"display:none;\">\n",
              "\n",
              "<svg xmlns=\"http://www.w3.org/2000/svg\" height=\"24px\"viewBox=\"0 0 24 24\"\n",
              "     width=\"24px\">\n",
              "    <g>\n",
              "        <path d=\"M19 3H5c-1.1 0-2 .9-2 2v14c0 1.1.9 2 2 2h14c1.1 0 2-.9 2-2V5c0-1.1-.9-2-2-2zM9 17H7v-7h2v7zm4 0h-2V7h2v10zm4 0h-2v-4h2v4z\"/>\n",
              "    </g>\n",
              "</svg>\n",
              "  </button>\n",
              "\n",
              "<style>\n",
              "  .colab-df-quickchart {\n",
              "      --bg-color: #E8F0FE;\n",
              "      --fill-color: #1967D2;\n",
              "      --hover-bg-color: #E2EBFA;\n",
              "      --hover-fill-color: #174EA6;\n",
              "      --disabled-fill-color: #AAA;\n",
              "      --disabled-bg-color: #DDD;\n",
              "  }\n",
              "\n",
              "  [theme=dark] .colab-df-quickchart {\n",
              "      --bg-color: #3B4455;\n",
              "      --fill-color: #D2E3FC;\n",
              "      --hover-bg-color: #434B5C;\n",
              "      --hover-fill-color: #FFFFFF;\n",
              "      --disabled-bg-color: #3B4455;\n",
              "      --disabled-fill-color: #666;\n",
              "  }\n",
              "\n",
              "  .colab-df-quickchart {\n",
              "    background-color: var(--bg-color);\n",
              "    border: none;\n",
              "    border-radius: 50%;\n",
              "    cursor: pointer;\n",
              "    display: none;\n",
              "    fill: var(--fill-color);\n",
              "    height: 32px;\n",
              "    padding: 0;\n",
              "    width: 32px;\n",
              "  }\n",
              "\n",
              "  .colab-df-quickchart:hover {\n",
              "    background-color: var(--hover-bg-color);\n",
              "    box-shadow: 0 1px 2px rgba(60, 64, 67, 0.3), 0 1px 3px 1px rgba(60, 64, 67, 0.15);\n",
              "    fill: var(--button-hover-fill-color);\n",
              "  }\n",
              "\n",
              "  .colab-df-quickchart-complete:disabled,\n",
              "  .colab-df-quickchart-complete:disabled:hover {\n",
              "    background-color: var(--disabled-bg-color);\n",
              "    fill: var(--disabled-fill-color);\n",
              "    box-shadow: none;\n",
              "  }\n",
              "\n",
              "  .colab-df-spinner {\n",
              "    border: 2px solid var(--fill-color);\n",
              "    border-color: transparent;\n",
              "    border-bottom-color: var(--fill-color);\n",
              "    animation:\n",
              "      spin 1s steps(1) infinite;\n",
              "  }\n",
              "\n",
              "  @keyframes spin {\n",
              "    0% {\n",
              "      border-color: transparent;\n",
              "      border-bottom-color: var(--fill-color);\n",
              "      border-left-color: var(--fill-color);\n",
              "    }\n",
              "    20% {\n",
              "      border-color: transparent;\n",
              "      border-left-color: var(--fill-color);\n",
              "      border-top-color: var(--fill-color);\n",
              "    }\n",
              "    30% {\n",
              "      border-color: transparent;\n",
              "      border-left-color: var(--fill-color);\n",
              "      border-top-color: var(--fill-color);\n",
              "      border-right-color: var(--fill-color);\n",
              "    }\n",
              "    40% {\n",
              "      border-color: transparent;\n",
              "      border-right-color: var(--fill-color);\n",
              "      border-top-color: var(--fill-color);\n",
              "    }\n",
              "    60% {\n",
              "      border-color: transparent;\n",
              "      border-right-color: var(--fill-color);\n",
              "    }\n",
              "    80% {\n",
              "      border-color: transparent;\n",
              "      border-right-color: var(--fill-color);\n",
              "      border-bottom-color: var(--fill-color);\n",
              "    }\n",
              "    90% {\n",
              "      border-color: transparent;\n",
              "      border-bottom-color: var(--fill-color);\n",
              "    }\n",
              "  }\n",
              "</style>\n",
              "\n",
              "  <script>\n",
              "    async function quickchart(key) {\n",
              "      const quickchartButtonEl =\n",
              "        document.querySelector('#' + key + ' button');\n",
              "      quickchartButtonEl.disabled = true;  // To prevent multiple clicks.\n",
              "      quickchartButtonEl.classList.add('colab-df-spinner');\n",
              "      try {\n",
              "        const charts = await google.colab.kernel.invokeFunction(\n",
              "            'suggestCharts', [key], {});\n",
              "      } catch (error) {\n",
              "        console.error('Error during call to suggestCharts:', error);\n",
              "      }\n",
              "      quickchartButtonEl.classList.remove('colab-df-spinner');\n",
              "      quickchartButtonEl.classList.add('colab-df-quickchart-complete');\n",
              "    }\n",
              "    (() => {\n",
              "      let quickchartButtonEl =\n",
              "        document.querySelector('#df-ef8b8cba-f1e0-41ae-b3db-8d892f1029ac button');\n",
              "      quickchartButtonEl.style.display =\n",
              "        google.colab.kernel.accessAllowed ? 'block' : 'none';\n",
              "    })();\n",
              "  </script>\n",
              "</div>\n",
              "\n",
              "    </div>\n",
              "  </div>\n"
            ],
            "application/vnd.google.colaboratory.intrinsic+json": {
              "type": "dataframe",
              "variable_name": "metadata",
              "summary": "{\n  \"name\": \"metadata\",\n  \"rows\": 44434,\n  \"fields\": [\n    {\n      \"column\": \"Unnamed: 0\",\n      \"properties\": {\n        \"dtype\": \"number\",\n        \"std\": 13532,\n        \"min\": 0,\n        \"max\": 46910,\n        \"num_unique_values\": 44434,\n        \"samples\": [\n          6297,\n          23486,\n          16012\n        ],\n        \"semantic_type\": \"\",\n        \"description\": \"\"\n      }\n    },\n    {\n      \"column\": \"movieId\",\n      \"properties\": {\n        \"dtype\": \"number\",\n        \"std\": 57391,\n        \"min\": 1,\n        \"max\": 176279,\n        \"num_unique_values\": 44434,\n        \"samples\": [\n          6286,\n          109989,\n          79725\n        ],\n        \"semantic_type\": \"\",\n        \"description\": \"\"\n      }\n    },\n    {\n      \"column\": \"imdbId\",\n      \"properties\": {\n        \"dtype\": \"number\",\n        \"std\": 1356124,\n        \"min\": 1,\n        \"max\": 7158814,\n        \"num_unique_values\": 44434,\n        \"samples\": [\n          311519,\n          2289538,\n          1295068\n        ],\n        \"semantic_type\": \"\",\n        \"description\": \"\"\n      }\n    },\n    {\n      \"column\": \"tmdbId\",\n      \"properties\": {\n        \"dtype\": \"number\",\n        \"std\": 111587.8665274623,\n        \"min\": 2.0,\n        \"max\": 469172.0,\n        \"num_unique_values\": 44404,\n        \"samples\": [\n          62414.0,\n          72354.0,\n          241340.0\n        ],\n        \"semantic_type\": \"\",\n        \"description\": \"\"\n      }\n    },\n    {\n      \"column\": \"title\",\n      \"properties\": {\n        \"dtype\": \"string\",\n        \"num_unique_values\": 41302,\n        \"samples\": [\n          \"Phffft!\",\n          \"The Thing with Two Heads\",\n          \"Better Than Sex\"\n        ],\n        \"semantic_type\": \"\",\n        \"description\": \"\"\n      }\n    },\n    {\n      \"column\": \"overview\",\n      \"properties\": {\n        \"dtype\": \"string\",\n        \"num_unique_values\": 44231,\n        \"samples\": [\n          \"It's 2150. There are all sorts of Aliens living throughout space. Johnny is a Space Delivery Man who travels to different planets to deliver packages. Johnny is lazy and his only desire is to sleep in his autopilot spaceship. When the spaceship arrives at the destination, all he has to do is simply deliver the box. However, it never goes as planned. Johnny encounters strange and bizarre planets and always seems to cause trouble on his delivery route.  Will he be able to finish his mission without trouble?\",\n          \"Jobless, besieged by creditors, and abandoned by his wife, the once silver medalist Tae-shik has sunk to street hustling, becoming a human punching bag. Meanwhile, young Sang-hwan's delinquent ways land him behind bars. Both men look to boxing to turn around lives gone astray, aiming for the amateur title, ultimately pitting them against each other, but more importantly, against themselves.\",\n          \"The grim woes that surrounded famed director Peter Bogdanovich and his film, \\\"They All Laughed.\\\"\"\n        ],\n        \"semantic_type\": \"\",\n        \"description\": \"\"\n      }\n    },\n    {\n      \"column\": \"budget\",\n      \"properties\": {\n        \"dtype\": \"number\",\n        \"std\": 17612253.26291029,\n        \"min\": 0.0,\n        \"max\": 380000000.0,\n        \"num_unique_values\": 1205,\n        \"samples\": [\n          9300000.0,\n          2620000.0,\n          2053648.0\n        ],\n        \"semantic_type\": \"\",\n        \"description\": \"\"\n      }\n    },\n    {\n      \"column\": \"genres\",\n      \"properties\": {\n        \"dtype\": \"category\",\n        \"num_unique_values\": 4045,\n        \"samples\": [\n          \"[{'id': 10751, 'name': 'Family'}, {'id': 35, 'name': 'Comedy'}, {'id': 10402, 'name': 'Music'}, {'id': 14, 'name': 'Fantasy'}]\",\n          \"[{'id': 16, 'name': 'Animation'}]\",\n          \"[{'id': 10770, 'name': 'TV Movie'}, {'id': 80, 'name': 'Crime'}, {'id': 9648, 'name': 'Mystery'}, {'id': 53, 'name': 'Thriller'}]\"\n        ],\n        \"semantic_type\": \"\",\n        \"description\": \"\"\n      }\n    },\n    {\n      \"column\": \"production_companies\",\n      \"properties\": {\n        \"dtype\": \"string\",\n        \"num_unique_values\": 22436,\n        \"samples\": [\n          \"[{'name': 'DreamWorks SKG', 'id': 27}, {'name': 'Davis Entertainment', 'id': 1302}, {'name': 'Tollin/Robbins Productions', 'id': 2184}]\",\n          \"[{'name': 'Rex Carlton Productions', 'id': 12335}]\",\n          \"[{'name': 'The Weinstein Company', 'id': 308}, {'name': 'Kanbar Entertainment', 'id': 7580}, {'name': 'Blue Yonder Films', 'id': 49126}]\"\n        ],\n        \"semantic_type\": \"\",\n        \"description\": \"\"\n      }\n    },\n    {\n      \"column\": \"production_countries\",\n      \"properties\": {\n        \"dtype\": \"category\",\n        \"num_unique_values\": 2366,\n        \"samples\": [\n          \"[{'iso_3166_1': 'CA', 'name': 'Canada'}, {'iso_3166_1': 'RW', 'name': 'Rwanda'}]\",\n          \"[{'iso_3166_1': 'BR', 'name': 'Brazil'}, {'iso_3166_1': 'DE', 'name': 'Germany'}, {'iso_3166_1': 'US', 'name': 'United States of America'}]\",\n          \"[{'iso_3166_1': 'GB', 'name': 'United Kingdom'}, {'iso_3166_1': 'FR', 'name': 'France'}, {'iso_3166_1': 'CA', 'name': 'Canada'}]\"\n        ],\n        \"semantic_type\": \"\",\n        \"description\": \"\"\n      }\n    },\n    {\n      \"column\": \"release_date\",\n      \"properties\": {\n        \"dtype\": \"object\",\n        \"num_unique_values\": 17184,\n        \"samples\": [\n          \"1932-11-06\",\n          \"1988-02-16\",\n          \"1971-04-24\"\n        ],\n        \"semantic_type\": \"\",\n        \"description\": \"\"\n      }\n    },\n    {\n      \"column\": \"runtime\",\n      \"properties\": {\n        \"dtype\": \"number\",\n        \"std\": 37.5032605135128,\n        \"min\": 0.0,\n        \"max\": 1256.0,\n        \"num_unique_values\": 353,\n        \"samples\": [\n          47.0,\n          87.0,\n          206.0\n        ],\n        \"semantic_type\": \"\",\n        \"description\": \"\"\n      }\n    },\n    {\n      \"column\": \"spoken_languages\",\n      \"properties\": {\n        \"dtype\": \"category\",\n        \"num_unique_values\": 1923,\n        \"samples\": [\n          \"[{'iso_639_1': 'de', 'name': 'Deutsch'}, {'iso_639_1': 'da', 'name': 'Dansk'}, {'iso_639_1': 'en', 'name': 'English'}, {'iso_639_1': 'fr', 'name': 'Fran\\u00e7ais'}]\",\n          \"[{'iso_639_1': 'ml', 'name': ''}, {'iso_639_1': 'ta', 'name': '\\u0ba4\\u0bae\\u0bbf\\u0bb4\\u0bcd'}]\",\n          \"[{'iso_639_1': 'bo', 'name': ''}, {'iso_639_1': 'de', 'name': 'Deutsch'}, {'iso_639_1': 'en', 'name': 'English'}]\"\n        ],\n        \"semantic_type\": \"\",\n        \"description\": \"\"\n      }\n    },\n    {\n      \"column\": \"keywords\",\n      \"properties\": {\n        \"dtype\": \"string\",\n        \"num_unique_values\": 25853,\n        \"samples\": [\n          \"[{'id': 657, 'name': 'fire'}, {'id': 4079, 'name': 'lighthouse'}, {'id': 5314, 'name': 'mill'}, {'id': 10541, 'name': 'curse'}, {'id': 158254, 'name': 'pantyhose'}]\",\n          \"[{'id': 2708, 'name': 'hitman'}, {'id': 2820, 'name': 'wound'}, {'id': 5828, 'name': 'yoga'}, {'id': 8636, 'name': 'blood splatter'}, {'id': 9826, 'name': 'murder'}, {'id': 9866, 'name': 'basement'}, {'id': 11221, 'name': 'blood'}]\",\n          \"[{'id': 1820, 'name': 'trip'}, {'id': 5657, 'name': 'australia'}, {'id': 6783, 'name': 'orphanage'}, {'id': 7665, 'name': \\\"girls' boarding school\\\"}, {'id': 9054, 'name': 'hanging rock'}, {'id': 9672, 'name': 'based on true story'}, {'id': 9937, 'name': 'suspense'}, {'id': 9950, 'name': 'thriller'}]\"\n        ],\n        \"semantic_type\": \"\",\n        \"description\": \"\"\n      }\n    },\n    {\n      \"column\": \"cast\",\n      \"properties\": {\n        \"dtype\": \"string\",\n        \"num_unique_values\": 42125,\n        \"samples\": [\n          \"[{'cast_id': 5, 'character': 'Diane Arbus', 'credit_id': '52fe478a9251416c7509d2fb', 'gender': 1, 'id': 2227, 'name': 'Nicole Kidman', 'order': 0, 'profile_path': '/1ammEgq5D6qw5mM4WkgUmnxQ7Uy.jpg'}, {'cast_id': 6, 'character': 'Lionel Sweeney', 'credit_id': '52fe478a9251416c7509d2ff', 'gender': 2, 'id': 3223, 'name': 'Robert Downey Jr.', 'order': 1, 'profile_path': '/1YjdSym1jTG7xjHSI0yGGWEsw5i.jpg'}, {'cast_id': 7, 'character': 'Allan Arbus', 'credit_id': '52fe478a9251416c7509d303', 'gender': 2, 'id': 15232, 'name': 'Ty Burrell', 'order': 2, 'profile_path': '/hJeOomahu5I7CgODCU9jh7oPsu6.jpg'}, {'cast_id': 8, 'character': 'David Nemerov', 'credit_id': '52fe478a9251416c7509d307', 'gender': 2, 'id': 1166, 'name': 'Harris Yulin', 'order': 3, 'profile_path': '/MCW4IR3mEB6oeRbX9bfeHkZ3qm.jpg'}, {'cast_id': 9, 'character': 'Gertrude Nemerov', 'credit_id': '52fe478a9251416c7509d30b', 'gender': 1, 'id': 13724, 'name': 'Jane Alexander', 'order': 4, 'profile_path': '/2pP8uZPdLTARHCMjGphUo4iH0je.jpg'}, {'cast_id': 10, 'character': 'Grace Arbus', 'credit_id': '52fe478a9251416c7509d30f', 'gender': 0, 'id': 200989, 'name': 'Emmy Clarke', 'order': 5, 'profile_path': '/vrdy4KrhjFKO8yWZgocNZkx3arJ.jpg'}, {'cast_id': 11, 'character': 'Sophie Arbus', 'credit_id': '52fe478a9251416c7509d313', 'gender': 0, 'id': 216794, 'name': 'Genevieve McCarthy', 'order': 6, 'profile_path': None}, {'cast_id': 12, 'character': 'Jack Henry', 'credit_id': '52fe478a9251416c7509d317', 'gender': 2, 'id': 151432, 'name': 'Boris McGiver', 'order': 7, 'profile_path': '/hQq2xgwhJlg4vrplnAWLGFlvAyi.jpg'}, {'cast_id': 13, 'character': 'Tippa Henry', 'credit_id': '52fe478a9251416c7509d31b', 'gender': 1, 'id': 54124, 'name': 'Marceline Hugot', 'order': 8, 'profile_path': '/7WxTQBruJR8IqKZ5ui6D4kPH1Yy.jpg'}, {'cast_id': 14, 'character': 'Althea', 'credit_id': '52fe478a9251416c7509d31f', 'gender': 1, 'id': 962206, 'name': 'Mary Duffy', 'order': 9, 'profile_path': None}, {'cast_id': 15, 'character': \\\"Allan's New Assistant\\\", 'credit_id': '52fe478a9251416c7509d323', 'gender': 1, 'id': 51390, 'name': 'Emily Bergl', 'order': 10, 'profile_path': '/c6RviUESKHdRvk93WzchXpCfZIg.jpg'}, {'cast_id': 17, 'character': 'Dominatrix', 'credit_id': '52fe478a9251416c7509d327', 'gender': 0, 'id': 164228, 'name': 'Gwendolyn Bucci', 'order': 11, 'profile_path': '/q3LuSkkq26zmKrFB74C29XGHDKH.jpg'}, {'cast_id': 18, 'character': 'Lois', 'credit_id': '52fe478a9251416c7509d32b', 'gender': 0, 'id': 171658, 'name': 'Christina Rouner', 'order': 12, 'profile_path': None}, {'cast_id': 19, 'character': 'Handsome Client', 'credit_id': '52fe478a9251416c7509d32f', 'gender': 2, 'id': 58541, 'name': 'Matt Servitto', 'order': 13, 'profile_path': '/tJcp62tjtcFnHUgM35AxWjKCHmD.jpg'}, {'cast_id': 20, 'character': 'Fiona', 'credit_id': '52fe478b9251416c7509d333', 'gender': 0, 'id': 164522, 'name': 'Lynn-Marie Stetson', 'order': 14, 'profile_path': None}]\",\n          \"[{'cast_id': 1, 'character': 'Mr. Mertle', 'credit_id': '52fe47819251416c7509bd49', 'gender': 0, 'id': 15152, 'name': 'James Earl Jones', 'order': 0, 'profile_path': '/2ZuBf3ip2RXhkiQqGUjbUzAf4Nx.jpg'}, {'cast_id': 2, 'character': 'David Durago', 'credit_id': '52fe47819251416c7509bd4d', 'gender': 2, 'id': 83186, 'name': 'Max Lloyd-Jones', 'order': 1, 'profile_path': '/3jJUtRPFBBGREK9qP1kou7f8xYp.jpg'}, {'cast_id': 5, 'character': 'Johnnie Smalls', 'credit_id': '52fe47819251416c7509bd5d', 'gender': 2, 'id': 1113295, 'name': 'James Willson', 'order': 2, 'profile_path': '/lErvfLatVOv2z8o3vBkfKtvdPh8.jpg'}, {'cast_id': 6, 'character': 'Mac', 'credit_id': '52fe47819251416c7509bd61', 'gender': 2, 'id': 63992, 'name': 'Brett Kelly', 'order': 3, 'profile_path': '/lrNCvvtopyLTtwQQUxjfu8JfIpj.jpg'}, {'cast_id': 7, 'character': 'Saul', 'credit_id': '52fe47819251416c7509bd65', 'gender': 0, 'id': 166940, 'name': 'Cole Evan Weiss', 'order': 4, 'profile_path': '/zlK6GzLE8s0HZKurAlT6M1uNvu0.jpg'}, {'cast_id': 8, 'character': 'Tarqell', 'credit_id': '52fe47819251416c7509bd69', 'gender': 0, 'id': 947023, 'name': 'Neilen Benvegnu', 'order': 5, 'profile_path': None}, {'cast_id': 9, 'character': 'The Retriever', 'credit_id': '52fe47819251416c7509bd6d', 'gender': 0, 'id': 947024, 'name': 'Griffin Reilly Evans', 'order': 6, 'profile_path': '/5vESyxgJ8JMibqJPV49MEl1Yuuq.jpg'}, {'cast_id': 10, 'character': 'Young David', 'credit_id': '52fe47819251416c7509bd71', 'gender': 0, 'id': 209828, 'name': 'Austin Dunn', 'order': 7, 'profile_path': '/lXHUlU3I7LDLuCcJMlt9hChlvZa.jpg'}, {'cast_id': 11, 'character': 'Singleton', 'credit_id': '52fe47819251416c7509bd75', 'gender': 2, 'id': 48463, 'name': 'Reece Thompson', 'order': 8, 'profile_path': '/87u9LekMLrRmli8fV3JPV7wj8zS.jpg'}, {'cast_id': 12, 'character': 'Sammy', 'credit_id': '52fe47819251416c7509bd79', 'gender': 2, 'id': 305055, 'name': 'Sean Berdy', 'order': 9, 'profile_path': '/kFjPuj8a5lzlPfW91HvziLuhPNZ.jpg'}, {'cast_id': 13, 'character': 'Hayley Goodfairer', 'credit_id': '52fe47819251416c7509bd7d', 'gender': 1, 'id': 947022, 'name': 'Samantha Burton', 'order': 10, 'profile_path': '/uoQ0KyPPeM7jZIlcLbTsIV1yOmI.jpg'}, {'cast_id': 14, 'character': 'Penny', 'credit_id': '52fe47819251416c7509bd81', 'gender': 0, 'id': 202813, 'name': 'Jessica King', 'order': 11, 'profile_path': None}, {'cast_id': 15, 'character': 'Jenny', 'credit_id': '54cf6fc1925141475b0082a5', 'gender': 0, 'id': 1422089, 'name': 'McKenzie Freemantle', 'order': 12, 'profile_path': None}, {'cast_id': 16, 'character': 'Mrs. Goodfairer', 'credit_id': '54cf7276c3a3687f88008917', 'gender': 1, 'id': 51800, 'name': 'Teryl Rothery', 'order': 13, 'profile_path': '/16rUSnTH56cKatjd6kjEYEfU4cA.jpg'}, {'cast_id': 17, 'character': 'Mr. Goodfairer', 'credit_id': '54cf72f7c3a3687f820081bc', 'gender': 2, 'id': 19974, 'name': 'Greg Germann', 'order': 14, 'profile_path': '/6k9VrbAAcIcISGwSMRUtYEGdYFK.jpg'}, {'cast_id': 18, 'character': 'Little League Coach', 'credit_id': '54cf7635c3a3687f8f00816b', 'gender': 2, 'id': 158005, 'name': 'Steve Garvey', 'order': 15, 'profile_path': '/xQrrwCGeAhn7ZtPXLS2wZHRomxi.jpg'}, {'cast_id': 19, 'character': 'Hot Young Lady', 'credit_id': '54cf794bc3a3687f92007bf1', 'gender': 0, 'id': 175779, 'name': 'Barbara Kottmeier', 'order': 16, 'profile_path': '/kkQXjIbpxVQAtVSejDzQnELY922.jpg'}, {'cast_id': 20, 'character': 'Boyfriend', 'credit_id': '54cf7a9dc3a3687f94008323', 'gender': 0, 'id': 103283, 'name': 'Mike Antonakos', 'order': 17, 'profile_path': '/zFAxhXjyGnYWhsl0SQsAyalNTZ5.jpg'}, {'cast_id': 21, 'character': 'Woman at Movie', 'credit_id': '54cf7b48925141475d008041', 'gender': 0, 'id': 1422105, 'name': 'Celia Bond', 'order': 18, 'profile_path': None}, {'cast_id': 22, 'character': 'Man at Movie', 'credit_id': '54cf7d93c3a3681c9c005d87', 'gender': 0, 'id': 1422107, 'name': 'Jim Dunn', 'order': 19, 'profile_path': None}, {'cast_id': 23, 'character': 'Narrator (voice)', 'credit_id': '54cf7ed8925141474b008553', 'gender': 2, 'id': 69741, 'name': 'David M. Evans', 'order': 20, 'profile_path': '/h4PUTxhvUuRVO9EMQznDt5F2vZO.jpg'}]\",\n          \"[{'cast_id': 1, 'character': 'Keld', 'credit_id': '52fe445ac3a368484e01e491', 'gender': 2, 'id': 4464, 'name': 'Bjarne Henriksen', 'order': 0, 'profile_path': '/kG3ZlQlMDbl61gJmtpgu2P7LHfl.jpg'}, {'cast_id': 2, 'character': 'Ling', 'credit_id': '52fe445ac3a368484e01e495', 'gender': 1, 'id': 69033, 'name': 'Vivian Wu', 'order': 1, 'profile_path': '/sCB8qsYL8Qqf6pG2Z6gBEjOszNz.jpg'}, {'cast_id': 4, 'character': 'Rie', 'credit_id': '52fe445ac3a368484e01e49d', 'gender': 0, 'id': 77543, 'name': 'Charlotte Fich', 'order': 3, 'profile_path': '/zFDWO8GhiCqQPQhnkmXQVLL0oJF.jpg'}, {'cast_id': 7, 'character': 'Michael', 'credit_id': '52fe445ac3a368484e01e4ad', 'gender': 0, 'id': 34866, 'name': 'Paw Henriksen', 'order': 4, 'profile_path': '/romD28iceYoIEsxW38LCdsB0oOS.jpg'}, {'cast_id': 8, 'character': 'The Doctor', 'credit_id': '52fe445ac3a368484e01e4b1', 'gender': 2, 'id': 21183, 'name': 'Nicolas Winding Refn', 'order': 5, 'profile_path': '/Ap0ySsAQfkmBmiBQdH44CqJAQE.jpg'}, {'cast_id': 9, 'character': 'Zhang', 'credit_id': '52fe445ac3a368484e01e4b5', 'gender': 0, 'id': 1184508, 'name': 'Chapper Kim', 'order': 6, 'profile_path': None}, {'cast_id': 10, 'character': 'Feng', 'credit_id': '54f30823c3a3681b71001cef', 'gender': 0, 'id': 234978, 'name': 'Lin Kun Wu', 'order': 7, 'profile_path': None}, {'cast_id': 11, 'character': 'Bj\\u00f6rn', 'credit_id': '583f2d67c3a368668300fd2f', 'gender': 2, 'id': 22331, 'name': 'Johan Rabaeus', 'order': 8, 'profile_path': '/zuFmPuzNjRRGk2zal3R1ZhamsaH.jpg'}]\"\n        ],\n        \"semantic_type\": \"\",\n        \"description\": \"\"\n      }\n    },\n    {\n      \"column\": \"crew\",\n      \"properties\": {\n        \"dtype\": \"string\",\n        \"num_unique_values\": 43742,\n        \"samples\": [\n          \"[{'credit_id': '52fe45ce9251416c9103f17b', 'department': 'Directing', 'gender': 0, 'id': 3146, 'job': 'Director', 'name': 'Billy Wilder', 'profile_path': '/nWV9BDDCbRegP7etiPjl3vYnJEq.jpg'}, {'credit_id': '5453b5c20e0a2648c20017d6', 'department': 'Writing', 'gender': 0, 'id': 3146, 'job': 'Writer', 'name': 'Billy Wilder', 'profile_path': '/nWV9BDDCbRegP7etiPjl3vYnJEq.jpg'}, {'credit_id': '58070d439251415a7a0111d7', 'department': 'Sound', 'gender': 2, 'id': 9217, 'job': 'Original Music Composer', 'name': 'Lalo Schifrin', 'profile_path': None}, {'credit_id': '598dab10c3a36875b10102ee', 'department': 'Art', 'gender': 2, 'id': 12436, 'job': 'Production Design', 'name': 'Daniel A. Lomino', 'profile_path': None}, {'credit_id': '58070d49c3a3684d4e00ffd4', 'department': 'Camera', 'gender': 2, 'id': 14094, 'job': 'Director of Photography', 'name': 'Harry Stradling Jr.', 'profile_path': None}, {'credit_id': '598dab1692514178fc011010', 'department': 'Art', 'gender': 0, 'id': 15448, 'job': 'Set Decoration', 'name': 'Cloudia Rebar', 'profile_path': None}, {'credit_id': '598daafcc3a36875c3011ee9', 'department': 'Editing', 'gender': 2, 'id': 24794, 'job': 'Editor', 'name': 'Argyle Nelson Jr.', 'profile_path': None}, {'credit_id': '598dab0992514178fc010ffc', 'department': 'Production', 'gender': 1, 'id': 12942, 'job': 'Casting', 'name': 'Fern Champion', 'profile_path': None}, {'credit_id': '598dab0292514178ec010cec', 'department': 'Production', 'gender': 0, 'id': 13433, 'job': 'Casting', 'name': 'Pamela Basker', 'profile_path': None}, {'credit_id': '598dab4092514178b1010cea', 'department': 'Production', 'gender': 0, 'id': 122728, 'job': 'Associate Producer', 'name': 'Charles Matthau', 'profile_path': '/sAbN9pMTTsppMcSTiuKLuJ0xnix.jpg'}, {'credit_id': '598dab3692514178a4011e2b', 'department': 'Production', 'gender': 2, 'id': 227835, 'job': 'Producer', 'name': 'Jay Weston', 'profile_path': None}, {'credit_id': '5453b5cc0e0a2648d6001776', 'department': 'Writing', 'gender': 0, 'id': 1369247, 'job': 'Writer', 'name': 'I.A.L. Diamond', 'profile_path': None}, {'credit_id': '598dab4a92514178d601150d', 'department': 'Production', 'gender': 0, 'id': 1434768, 'job': 'Executive Producer', 'name': 'Alain Bernheim', 'profile_path': None}]\",\n          \"[{'credit_id': '52fe4482c3a368484e027319', 'department': 'Directing', 'gender': 0, 'id': 5030, 'job': 'Director', 'name': 'Edgar G. Ulmer', 'profile_path': '/PU5rCuIxOPcffvceRU4K2Y9smj.jpg'}, {'credit_id': '564cd7a09251414dd1007c71', 'department': 'Costume & Make-Up', 'gender': 0, 'id': 5030, 'job': 'Costume Design', 'name': 'Edgar G. Ulmer', 'profile_path': '/PU5rCuIxOPcffvceRU4K2Y9smj.jpg'}, {'credit_id': '564cd7d4c3a3682a1a002cbf', 'department': 'Art', 'gender': 0, 'id': 5030, 'job': 'Set Designer', 'name': 'Edgar G. Ulmer', 'profile_path': '/PU5rCuIxOPcffvceRU4K2Y9smj.jpg'}, {'credit_id': '52fe4482c3a368484e02735f', 'department': 'Writing', 'gender': 0, 'id': 5030, 'job': 'Story', 'name': 'Edgar G. Ulmer', 'profile_path': '/PU5rCuIxOPcffvceRU4K2Y9smj.jpg'}, {'credit_id': '564cd779c3a368602b007b62', 'department': 'Production', 'gender': 0, 'id': 1556, 'job': 'Supervising Producer', 'name': 'E.M. Asher', 'profile_path': None}, {'credit_id': '564cd78292514158f6002cc1', 'department': 'Production', 'gender': 2, 'id': 1557, 'job': 'Producer', 'name': 'Carl Laemmle Jr.', 'profile_path': '/hxZVAnYE16aGEa3ihIastQQUQWU.jpg'}, {'credit_id': '564cd798925141594d002878', 'department': 'Art', 'gender': 2, 'id': 3945, 'job': 'Art Direction', 'name': 'Charles D. Hall', 'profile_path': None}, {'credit_id': '52fe4482c3a368484e027333', 'department': 'Camera', 'gender': 2, 'id': 2940, 'job': 'Director of Photography', 'name': 'John J. Mescall', 'profile_path': None}, {'credit_id': '564cd7aac3a368603100786c', 'department': 'Costume & Make-Up', 'gender': 2, 'id': 29813, 'job': 'Makeup Artist', 'name': 'Jack P. Pierce', 'profile_path': None}, {'credit_id': '564cd78a9251414dcb007bb7', 'department': 'Sound', 'gender': 2, 'id': 30268, 'job': 'Music', 'name': 'Heinz Roemheld', 'profile_path': None}, {'credit_id': '52fe4482c3a368484e02734d', 'department': 'Writing', 'gender': 0, 'id': 48415, 'job': 'Story', 'name': 'Edgar Allan Poe', 'profile_path': '/akmuLsbMrtcVrmiiaYqDK3QNdwC.jpg'}, {'credit_id': '564cd791c3a368602b007b68', 'department': 'Editing', 'gender': 2, 'id': 103497, 'job': 'Editor', 'name': 'Ray Curtiss', 'profile_path': None}, {'credit_id': '52fe4482c3a368484e027353', 'department': 'Writing', 'gender': 2, 'id': 543648, 'job': 'Screenplay', 'name': 'Peter Ruric', 'profile_path': None}, {'credit_id': '52fe4482c3a368484e027359', 'department': 'Writing', 'gender': 2, 'id': 543648, 'job': 'Story', 'name': 'Peter Ruric', 'profile_path': None}, {'credit_id': '564cd7c09251414dcd007892', 'department': 'Directing', 'gender': 0, 'id': 1354030, 'job': 'Assistant Director', 'name': 'William J. Reiter', 'profile_path': None}, {'credit_id': '564cd7b89251417c4600729a', 'department': 'Production', 'gender': 0, 'id': 1532475, 'job': 'Production Manager', 'name': 'M.F. Murphy', 'profile_path': None}, {'credit_id': '564cd7df9251416de3003f16', 'department': 'Sound', 'gender': 2, 'id': 1532477, 'job': 'Sound', 'name': 'Gilbert Kurland', 'profile_path': None}, {'credit_id': '564cd7c8c3a3686031007871', 'department': 'Directing', 'gender': 0, 'id': 1538011, 'job': 'Assistant Director', 'name': 'Sam Weisenthal', 'profile_path': None}]\",\n          \"[{'credit_id': '52fe47ef9251416c9107a94f', 'department': 'Directing', 'gender': 0, 'id': 89112, 'job': 'Director', 'name': 'Anthony Leondis', 'profile_path': None}, {'credit_id': '52fe47ef9251416c9107a955', 'department': 'Writing', 'gender': 0, 'id': 590928, 'job': 'Writer', 'name': 'Paul McEvoy', 'profile_path': None}, {'credit_id': '52fe47ef9251416c9107a95b', 'department': 'Writing', 'gender': 2, 'id': 135795, 'job': 'Writer', 'name': 'Todd Berger', 'profile_path': None}, {'credit_id': '5518c60b9251412c1e0048a6', 'department': 'Visual Effects', 'gender': 0, 'id': 1447301, 'job': 'Animation', 'name': 'Trevor Tamboline', 'profile_path': None}, {'credit_id': '551ee663c3a3685aab00012e', 'department': 'Crew', 'gender': 0, 'id': 1448998, 'job': 'Compositors', 'name': 'Darrin Drew', 'profile_path': None}, {'credit_id': '55288f2b92514111c60009a4', 'department': 'Production', 'gender': 0, 'id': 1452488, 'job': 'Production Manager', 'name': 'Pat Sito', 'profile_path': None}, {'credit_id': '552d69149251413873005cf7', 'department': 'Visual Effects', 'gender': 0, 'id': 1454249, 'job': 'Animation', 'name': 'Frans Vischer', 'profile_path': None}, {'credit_id': '553750ff9251414ab90013d3', 'department': 'Production', 'gender': 0, 'id': 1397895, 'job': 'Associate Producer', 'name': 'Pilar Flynn', 'profile_path': None}, {'credit_id': '55375b1cc3a36878fd001b8b', 'department': 'Crew', 'gender': 0, 'id': 1447548, 'job': 'Other', 'name': 'Louie C. Jhocson', 'profile_path': None}, {'credit_id': '553b3282c3a36820ec0013ef', 'department': 'Directing', 'gender': 0, 'id': 1447593, 'job': 'Layout', 'name': 'Mick De Falco', 'profile_path': None}, {'credit_id': '553dcfb8c3a36820ec004de7', 'department': 'Visual Effects', 'gender': 0, 'id': 1459642, 'job': 'Color Designer', 'name': 'Lisa Leonardi-Knight', 'profile_path': None}, {'credit_id': '553ff569c3a3681da5000086', 'department': 'Visual Effects', 'gender': 0, 'id': 1460472, 'job': 'Animation', 'name': 'Steve Cunningham', 'profile_path': None}, {'credit_id': '55444c82c3a3680cd50036e8', 'department': 'Visual Effects', 'gender': 0, 'id': 1461156, 'job': 'Animation', 'name': 'Matt Williames', 'profile_path': None}, {'credit_id': '5548dd8cc3a3687882002367', 'department': 'Crew', 'gender': 0, 'id': 1447556, 'job': 'Compositors', 'name': 'Claire Williams', 'profile_path': None}, {'credit_id': '554bb8d6c3a3685e5000261a', 'department': 'Crew', 'gender': 0, 'id': 1460514, 'job': 'Other', 'name': 'Bingo Ferguson', 'profile_path': None}, {'credit_id': '55524ee5c3a3683d3b0018a4', 'department': 'Visual Effects', 'gender': 0, 'id': 1447459, 'job': 'Animation', 'name': 'Roberto Casale', 'profile_path': None}]\"\n        ],\n        \"semantic_type\": \"\",\n        \"description\": \"\"\n      }\n    },\n    {\n      \"column\": \"final_poster_url\",\n      \"properties\": {\n        \"dtype\": \"category\",\n        \"num_unique_values\": 3200,\n        \"samples\": [\n          \"https://image.tmdb.org/t/p/w500/vHWB7Y0jrt5Xg1EDO0hHVm173y8.jpg\",\n          \"https://image.tmdb.org/t/p/w500/qn29eD9s5UNRLmCMmDBHVLmcJN4.jpg\",\n          \"https://image.tmdb.org/t/p/w500/dDtGrmKlNb6Rowe1oZVAqROisCe.jpg\"\n        ],\n        \"semantic_type\": \"\",\n        \"description\": \"\"\n      }\n    }\n  ]\n}"
            }
          },
          "metadata": {},
          "execution_count": 3
        }
      ]
    },
    {
      "cell_type": "code",
      "source": [
        "mIDs = metadata.loc[:,'movieId'].values\n",
        "print(mIDs.shape)"
      ],
      "metadata": {
        "colab": {
          "base_uri": "https://localhost:8080/"
        },
        "id": "BNnhiAN43fXY",
        "outputId": "a54dc2f7-b1b8-45af-88cd-6727ea1437e1"
      },
      "id": "BNnhiAN43fXY",
      "execution_count": 4,
      "outputs": [
        {
          "output_type": "stream",
          "name": "stdout",
          "text": [
            "(44434,)\n"
          ]
        }
      ]
    },
    {
      "cell_type": "code",
      "source": [
        "np.unique(mIDs).shape"
      ],
      "metadata": {
        "colab": {
          "base_uri": "https://localhost:8080/"
        },
        "id": "cIsa0suA56GZ",
        "outputId": "f5428823-1493-464a-bac1-e93b104c0d21"
      },
      "id": "cIsa0suA56GZ",
      "execution_count": 5,
      "outputs": [
        {
          "output_type": "execute_result",
          "data": {
            "text/plain": [
              "(44434,)"
            ]
          },
          "metadata": {},
          "execution_count": 5
        }
      ]
    },
    {
      "cell_type": "code",
      "source": [
        "cos_sim_matrix = cosine_similarity(encoded_data)"
      ],
      "metadata": {
        "id": "7B-4Jg7e2h4t"
      },
      "id": "7B-4Jg7e2h4t",
      "execution_count": 6,
      "outputs": []
    },
    {
      "cell_type": "code",
      "source": [
        "cos_sim_matrix.shape"
      ],
      "metadata": {
        "colab": {
          "base_uri": "https://localhost:8080/"
        },
        "id": "NTff3k_Z3-Js",
        "outputId": "076fee85-dec4-493f-a65c-454481eff2ef"
      },
      "id": "NTff3k_Z3-Js",
      "execution_count": 7,
      "outputs": [
        {
          "output_type": "execute_result",
          "data": {
            "text/plain": [
              "(44434, 44434)"
            ]
          },
          "metadata": {},
          "execution_count": 7
        }
      ]
    },
    {
      "cell_type": "code",
      "source": [
        "len(encoded_data)"
      ],
      "metadata": {
        "colab": {
          "base_uri": "https://localhost:8080/"
        },
        "id": "a_fMB2lp4CXC",
        "outputId": "0e971462-65db-4540-9bb8-f98594c97e73"
      },
      "id": "a_fMB2lp4CXC",
      "execution_count": 8,
      "outputs": [
        {
          "output_type": "execute_result",
          "data": {
            "text/plain": [
              "44434"
            ]
          },
          "metadata": {},
          "execution_count": 8
        }
      ]
    },
    {
      "cell_type": "code",
      "source": [
        "top_10_neighbors_dict = {}\n",
        "\n",
        "# Loop through each item\n",
        "for i in range(len(encoded_data)):\n",
        "\n",
        "    # Sort the cosine similarity values for the current item\n",
        "    sorted_indices = np.argsort(-cos_sim_matrix[i])  # Sort in descending order\n",
        "\n",
        "    sorted_indices = np.delete(sorted_indices, np.where(sorted_indices == i))\n",
        "\n",
        "    # Get the indices of the top 10 neighbors (excluding the item itself)\n",
        "    top_10_indices = sorted_indices[:10]\n",
        "\n",
        "    # Get the item IDs of the top 10 neighbors\n",
        "    top_10_item_ids = [str(mIDs[idx]) for idx in top_10_indices]\n",
        "\n",
        "    # Store the top 10 neighbors in the dictionary\n",
        "\n",
        "    top_10_neighbors_dict[str(mIDs[i])] = top_10_item_ids"
      ],
      "metadata": {
        "id": "n2SN6Lo_3MRS"
      },
      "id": "n2SN6Lo_3MRS",
      "execution_count": 23,
      "outputs": []
    },
    {
      "cell_type": "code",
      "source": [
        "for k,v in top_10_neighbors_dict.items():\n",
        "    if int(k) in v:\n",
        "        print(k,v)"
      ],
      "metadata": {
        "id": "flO4964D4WFP"
      },
      "id": "flO4964D4WFP",
      "execution_count": 24,
      "outputs": []
    },
    {
      "cell_type": "code",
      "source": [
        "# Save dictionary to a JSON file\n",
        "with open('top_10_neighbors.json', 'w') as json_file:\n",
        "    json.dump(top_10_neighbors_dict, json_file)\n",
        "\n",
        "# Load dictionary from the JSON file\n",
        "with open('top_10_neighbors.json', 'r') as json_file:\n",
        "    loaded_data = json.load(json_file)\n",
        "\n",
        "print(loaded_data)"
      ],
      "metadata": {
        "colab": {
          "base_uri": "https://localhost:8080/"
        },
        "id": "NNgNi0Zflm0F",
        "outputId": "c6c4cc9f-7873-47f5-aca7-b2823c816e8e"
      },
      "id": "NNgNi0Zflm0F",
      "execution_count": 26,
      "outputs": [
        {
          "output_type": "stream",
          "name": "stderr",
          "text": [
            "IOPub data rate exceeded.\n",
            "The notebook server will temporarily stop sending output\n",
            "to the client in order to avoid crashing it.\n",
            "To change this limit, set the config variable\n",
            "`--NotebookApp.iopub_data_rate_limit`.\n",
            "\n",
            "Current values:\n",
            "NotebookApp.iopub_data_rate_limit=1000000.0 (bytes/sec)\n",
            "NotebookApp.rate_limit_window=3.0 (secs)\n",
            "\n"
          ]
        }
      ]
    },
    {
      "cell_type": "code",
      "source": [
        "len(loaded_data.keys())"
      ],
      "metadata": {
        "colab": {
          "base_uri": "https://localhost:8080/"
        },
        "id": "p-aPGQp5orcw",
        "outputId": "4fc5cbbc-d75a-4b43-a1ff-c25167461bd4"
      },
      "id": "p-aPGQp5orcw",
      "execution_count": 30,
      "outputs": [
        {
          "output_type": "execute_result",
          "data": {
            "text/plain": [
              "44434"
            ]
          },
          "metadata": {},
          "execution_count": 30
        }
      ]
    }
  ],
  "metadata": {
    "kernelspec": {
      "display_name": "Python 3 (ipykernel)",
      "language": "python",
      "name": "python3"
    },
    "language_info": {
      "codemirror_mode": {
        "name": "ipython",
        "version": 3
      },
      "file_extension": ".py",
      "mimetype": "text/x-python",
      "name": "python",
      "nbconvert_exporter": "python",
      "pygments_lexer": "ipython3",
      "version": "3.10.9"
    },
    "colab": {
      "provenance": []
    }
  },
  "nbformat": 4,
  "nbformat_minor": 5
}