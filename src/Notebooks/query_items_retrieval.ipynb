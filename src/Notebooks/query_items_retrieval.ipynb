{
 "cells": [
  {
   "cell_type": "code",
   "execution_count": null,
   "id": "0485feec",
   "metadata": {},
   "outputs": [],
   "source": [
    "import pandas as pd\n",
    "import numpy as np\n",
    "import string\n",
    "import pickle\n",
    "import io\n",
    "import torch\n",
    "from sentence_transformers import SentenceTransformer\n",
    "\n",
    "metadata = pd.read_csv(\"Movies_data(3200).csv\")\n",
    "\n",
    "with open('encodings_description.pickle','rb') as file:\n",
    "    encoded_data = pickle.load(file)\n",
    "\n",
    "class CPU_Unpickler(pickle.Unpickler):\n",
    "    def find_class(self, module, name):\n",
    "        if module == 'torch.storage' and name == '_load_from_bytes':\n",
    "            return lambda b: torch.load(io.BytesIO(b), map_location='cpu')\n",
    "        else:\n",
    "            return super().find_class(module, name)\n",
    "\n",
    "with open('model.pickle','rb') as file:\n",
    "    #model = pickle.load(file)\n",
    "    model = CPU_Unpickler(file).load()\n",
    "\n",
    "def find_similar_items(query: str, metadata: pd.DataFrame, model: SentenceTransformer, encodings: np.array, top_n: int = 5):\n",
    "    query_vector = model.encode([query])\n",
    "    # print(query_vector)\n",
    "    similarity = np.dot(encodings,query_vector.T)\n",
    "    # print(similarity)\n",
    "    top_items = similarity.flatten().argsort()[-top_n:][::-1]\n",
    "    # print(top_items)\n",
    "    # return metadata['asin'].iloc[top_items]\n",
    "    return list(metadata['movieId'].iloc[top_items].values)\n",
    "\n",
    "top_n = 10\n",
    "query = \"adventure genre with title jumanji\"\n",
    "\n",
    "top_items_mID = find_similar_items(query=query, metadata=metadata, model=model, encodings=encoded_data, top_n=top_n)"
   ]
  }
 ],
 "metadata": {
  "kernelspec": {
   "display_name": "Python 3 (ipykernel)",
   "language": "python",
   "name": "python3"
  },
  "language_info": {
   "codemirror_mode": {
    "name": "ipython",
    "version": 3
   },
   "file_extension": ".py",
   "mimetype": "text/x-python",
   "name": "python",
   "nbconvert_exporter": "python",
   "pygments_lexer": "ipython3",
   "version": "3.10.9"
  }
 },
 "nbformat": 4,
 "nbformat_minor": 5
}
